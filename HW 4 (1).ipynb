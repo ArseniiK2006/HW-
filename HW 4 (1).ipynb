{
 "cells": [
  {
   "cell_type": "code",
   "execution_count": null,
   "id": "2fe770f4",
   "metadata": {},
   "outputs": [],
   "source": [
    "# Link to google docs containing Chat Logs \n",
    "# https://docs.google.com/document/d/17VTKtsxpeFy50NoBG436ajL1gSKi22PeBkZTCqyMAok/edit"
   ]
  },
  {
   "cell_type": "code",
   "execution_count": null,
   "id": "8e74755e",
   "metadata": {},
   "outputs": [],
   "source": [
    "# Task 1\n",
    "\n",
    "# While standard deviation and standard error of mean are related, they measure different aspects of data. \n",
    "# The standard deviation tells us how spread out the data is by measuring the dispersion of a set of data points from the mean, within a single sample.\n",
    "# The standard error of the mean tells us how precise the sample mean is as an estimate of the total population mean by calculating how much variability we would expect in the sample means if we were to draw multiple samples from the same population. "
   ]
  },
  {
   "cell_type": "code",
   "execution_count": null,
   "id": "6d5ad240",
   "metadata": {},
   "outputs": [],
   "source": [
    "# Task 2\n",
    "\n",
    "# To create a 95% confidence interval which \"covers 95% of the bootstrapped sample means\" we would first have to calculate the margin of error.\n",
    "# We would do this by multiplying our standar error of the mean by 1.96. \n",
    "# We would then construct the confidence interval as such: (mean - margin of error, mean + margin of error)\n",
    "# This interval covers 95% of the bootstrapped sample means. In other words, if you were to resample the original data many times and calculate the mean of each sample (bootstrapping), 95% of those means would fall within the interval calculated. "
   ]
  },
  {
   "cell_type": "code",
   "execution_count": null,
   "id": "98bd6858",
   "metadata": {},
   "outputs": [],
   "source": [
    "# Task 3 \n",
    "\n",
    "# Alternatively, you could just use bootstrap means to create the confidence interval. \n",
    "# First you would sort the bootstrap means in ascending order to facililtate the identification of the confidence interval bounds \n",
    "# Then you found find the 2.5th percentile and 97.5th precentile of the sorted bootstrap means. These will represent the lower and upper bounds of the 95% confidence interval. "
   ]
  },
  {
   "cell_type": "code",
   "execution_count": 1,
   "id": "8116d50b",
   "metadata": {},
   "outputs": [
    {
     "name": "stdout",
     "output_type": "stream",
     "text": [
      "95% Bootstrap Confidence Interval for the Population Mean: (82.05, 82.31)\n",
      "95% Bootstrap Confidence Interval for the Population Median: (82.42, 82.67)\n"
     ]
    }
   ],
   "source": [
    "# Task 4\n",
    "\n",
    "import pandas as pd\n",
    "import numpy as np\n",
    "\n",
    "# Load the data and preprocess\n",
    "df = pd.read_csv(\"https://raw.githubusercontent.com/rfordatascience/tidytuesday/2e9bd5a67e09b14d01f616b00f7f7e0931515d24/data/2020/2020-07-07/coffee_ratings.csv\")\n",
    "df = df.rename(columns={'country_of_origin': 'origin', 'total_cup_points': 'points'})\n",
    "\n",
    "# Filter the data based on conditions\n",
    "df = df[df['points'] > 65]  # Ignore very low scores\n",
    "df = df[~df['origin'].isna()]  # Remove rows with unknown origin\n",
    "\n",
    "# Fix character encoding issue\n",
    "df['origin'] = df['origin'].str.replace(\"?\", \"'\")  # Fix character encoding issue\n",
    "df['origin_original'] = df.origin.copy().values  # Save original (corrected) names\n",
    "\n",
    "# Function to calculate the 95% bootstrap confidence interval for a population parameter (mean, median, etc.)\n",
    "def bootstrap_confidence_interval(data, statistic_function, n_bootstrap=1000, confidence_level=0.95):\n",
    "    # Generate bootstrap samples and calculate the statistic for each sample\n",
    "    bootstrap_statistics = [statistic_function(np.random.choice(data, size=len(data), replace=True)) for _ in range(n_bootstrap)]\n",
    "    \n",
    "    # Calculate the confidence interval\n",
    "    lower_bound = np.percentile(bootstrap_statistics, (1 - confidence_level) / 2 * 100)\n",
    "    upper_bound = np.percentile(bootstrap_statistics, (1 + confidence_level) / 2 * 100)\n",
    "    \n",
    "    return lower_bound, upper_bound\n",
    "\n",
    "# Extract the points column as the data\n",
    "points_data = df['points'].values\n",
    "\n",
    "# Calculate the 95% bootstrap confidence interval for the population mean\n",
    "ci_lower_mean, ci_upper_mean = bootstrap_confidence_interval(points_data, statistic_function=np.mean)\n",
    "\n",
    "# Output the results for the mean\n",
    "print(f\"95% Bootstrap Confidence Interval for the Population Mean: ({ci_lower_mean:.2f}, {ci_upper_mean:.2f})\")\n",
    "\n",
    "# To calculate the 95% bootstrap confidence interval for the population median, change the statistic function to np.median\n",
    "# Uncomment the following lines to calculate the confidence interval for the median\n",
    "ci_lower_median, ci_upper_median = bootstrap_confidence_interval(points_data, statistic_function=np.median)\n",
    "\n",
    "# Output the results for the median\n",
    "print(f\"95% Bootstrap Confidence Interval for the Population Median: ({ci_lower_median:.2f}, {ci_upper_median:.2f})\")\n"
   ]
  },
  {
   "cell_type": "code",
   "execution_count": null,
   "id": "c6ea9570",
   "metadata": {},
   "outputs": [],
   "source": [
    "# Task 5\n",
    "\n",
    "# The role of the population parameter is that it is what the confidence interval aims to estimate. Since it is based on the entire population, it is generally not feasible to know this value exactly, especially for large populations\n",
    "# On the other hand the sample statistic is used to consstruct the confidence interval. It is a calculated value based on a sample taken from the population. Examples include the sample mean and meadian. "
   ]
  },
  {
   "cell_type": "code",
   "execution_count": null,
   "id": "1feb52a2",
   "metadata": {},
   "outputs": [],
   "source": [
    "# Task 6 \n",
    "\n",
    "# Bootstraping includes using your original datay to creach a bunch of new samples, by picking random values again and again. You do this many times to see how things like the mean or median change. \n",
    "# The purpose of bootstraping is to figure out things like confidence intervals without needing to make a bunch of complicated assumptions. It especially works great when you dont have an abundance of data. \n",
    "# Start with your sample data with size n and calculate a mean. Then decide on what you might think the true average is (hypothesize basing on your mean calculation). Nex youll want to make a bunch of new samples from your original ratings. For example take random samples of the same size list of ratings but allow yourself to pick the same number more than once. Do this 100 times. For each of these new samples calculate the mean. Now from all those means you will want to find a range where the true average probably falls. Do this by looking at the 2.5% and 97.5% marks of your new 100 means to create your 95% confidence interval. Finally saee if your hypothesized true average is within the confidence interval. If it is then your guess is plausable, and vice verca. "
   ]
  },
  {
   "cell_type": "code",
   "execution_count": null,
   "id": "a9815d51",
   "metadata": {},
   "outputs": [],
   "source": [
    "# Task 7 \n",
    "\n",
    "# If the confidence interval covers 0, this indicates the possibility of no effect. Therefore you fail to reject the null hypothesis. \n",
    "# If the confidence interval excludes 0, this suggests a significant effect meaning you rejuct the null hypothesis. "
   ]
  },
  {
   "cell_type": "code",
   "execution_count": 5,
   "id": "7f574f1f",
   "metadata": {
    "scrolled": true
   },
   "outputs": [
    {
     "data": {
      "image/png": "[encoded data removed]",
      "text/plain": [
       "<Figure size 1000x500 with 1 Axes>"
      ]
     },
     "metadata": {},
     "output_type": "display_data"
    },
    {
     "name": "stdout",
     "output_type": "stream",
     "text": [
      "Mean difference: 3.31\n",
      "95% Confidence Interval: (1.20, 5.40)\n",
      "Reject the null hypothesis: The vaccine appears to be effective.\n"
     ]
    }
   ],
   "source": [
    "# Task 8 \n",
    "import pandas as pd\n",
    "import numpy as np\n",
    "import matplotlib.pyplot as plt\n",
    "import seaborn as sns\n",
    "\n",
    "# Sample data creation (replace this with reading from your CSV file in practice)\n",
    "data = {\n",
    "    \"PatientID\": [1, 2, 3, 4, 5, 6, 7, 8, 9, 10],\n",
    "    \"Age\": [45, 34, 29, 52, 37, 41, 33, 48, 26, 39],\n",
    "    \"Gender\": [\"M\", \"F\", \"M\", \"F\", \"M\", \"F\", \"M\", \"F\", \"M\", \"F\"],\n",
    "    \"InitialHealthScore\": [84, 78, 83, 81, 81, 80, 79, 85, 76, 83],\n",
    "    \"FinalHealthScore\": [86, 86, 80, 86, 84, 86, 86, 82, 83, 84]\n",
    "}\n",
    "\n",
    "# Create DataFrame\n",
    "df = pd.DataFrame(data)\n",
    "\n",
    "# Set the style of seaborn\n",
    "sns.set(style=\"whitegrid\")\n",
    "\n",
    "# Visualizing initial and final health scores\n",
    "plt.figure(figsize=(10, 5))\n",
    "sns.boxplot(data=[df['InitialHealthScore'], df['FinalHealthScore']], \n",
    "            palette=\"Set3\", orient='v')\n",
    "\n",
    "plt.xticks([0, 1], ['Initial Health Score', 'Final Health Score'])\n",
    "plt.ylabel('Health Score')\n",
    "plt.title('Comparison of Initial and Final Health Scores')\n",
    "\n",
    "# Save the figure to a file with specified format and resolution\n",
    "plt.savefig('health_scores_comparison.png', format='png', dpi=300)  # Change the filename as needed\n",
    "plt.show()\n",
    "\n",
    "# Set the random seed for reproducibility\n",
    "np.random.seed(42)\n",
    "\n",
    "# Function to perform bootstrapping\n",
    "def bootstrap_mean_diff(initial_scores, final_scores, n_iterations=10000):\n",
    "    diffs = []\n",
    "    for _ in range(n_iterations):\n",
    "        boot_initial = np.random.choice(initial_scores, size=len(initial_scores), replace=True)\n",
    "        boot_final = np.random.choice(final_scores, size=len(final_scores), replace=True)\n",
    "        diff = np.mean(boot_final) - np.mean(boot_initial)\n",
    "        diffs.append(diff)\n",
    "    return np.array(diffs)\n",
    "\n",
    "# Extract initial and final health scores\n",
    "initial_scores = df['InitialHealthScore']\n",
    "final_scores = df['FinalHealthScore']\n",
    "\n",
    "# Perform bootstrapping\n",
    "boot_diffs = bootstrap_mean_diff(initial_scores, final_scores)\n",
    "\n",
    "# Calculate the confidence intervals\n",
    "lower_bound = np.percentile(boot_diffs, 2.5)\n",
    "upper_bound = np.percentile(boot_diffs, 97.5)\n",
    "mean_diff = np.mean(boot_diffs)\n",
    "\n",
    "# Displaying results\n",
    "print(f\"Mean difference: {mean_diff:.2f}\")\n",
    "print(f\"95% Confidence Interval: ({lower_bound:.2f}, {upper_bound:.2f})\")\n",
    "\n",
    "# Conclusion\n",
    "if lower_bound > 0:\n",
    "    print(\"Reject the null hypothesis: The vaccine appears to be effective.\")\n",
    "elif upper_bound < 0:\n",
    "    print(\"Reject the null hypothesis: The vaccine appears to be effective.\")\n",
    "else:\n",
    "    print(\"Fail to reject the null hypothesis: No evidence that the vaccine is effective.\")\n",
    "\n"
   ]
  },
  {
   "cell_type": "code",
   "execution_count": null,
   "id": "003fb346",
   "metadata": {},
   "outputs": [],
   "source": [
    "# Task 8 continuation\n",
    "\n",
    "# The null hypothesis implies that the vaccine does not significantly change health scores. Rejecting it indicates that the vaccine is effective\n",
    "# After looking at the 95% confidence interval we can see that it does not include 0 meaning we reject the null hypothesis, meaning the vaccine does appear to be effective. \n",
    "# However there are a number of factors that could limit reliability such as the very small sample size of 10 patients. A larger sample size could enhace generalizability for the whole population. To add to that, there are many external variables such as lifestyle which may influence health scores and affect this study. "
   ]
  }
 ],
 "metadata": {
  "kernelspec": {
   "display_name": "Python 3 (ipykernel)",
   "language": "python",
   "name": "python3"
  },
  "language_info": {
   "codemirror_mode": {
    "name": "ipython",
    "version": 3
   },
   "file_extension": ".py",
   "mimetype": "text/x-python",
   "name": "python",
   "nbconvert_exporter": "python",
   "pygments_lexer": "ipython3",
   "version": "3.11.6"
  }
 },
 "nbformat": 4,
 "nbformat_minor": 5
}
